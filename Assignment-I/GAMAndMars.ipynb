{
 "cells": [
  {
   "cell_type": "code",
   "execution_count": 2,
   "id": "initial_id",
   "metadata": {
    "collapsed": true,
    "ExecuteTime": {
     "end_time": "2024-07-06T23:58:48.206657Z",
     "start_time": "2024-07-06T23:58:48.104119Z"
    }
   },
   "outputs": [
    {
     "name": "stdout",
     "output_type": "stream",
     "text": [
      "       Mean_Integrated         SD        EK  Skewness  Mean_DMSNR_Curve  \\\n",
      "14453       108.765625  47.520470  0.191285  0.007945          2.921405   \n",
      "15797       121.554688  50.909357  0.083099 -0.087226          1.098662   \n",
      "4510        100.265625  43.808975  0.233088  0.451613          1.142977   \n",
      "11899       118.460938  41.178518  0.162482  1.050363          1.161371   \n",
      "895          97.109375  35.920319  0.364792  2.250635          2.826923   \n",
      "...                ...        ...       ...       ...               ...   \n",
      "11284       124.312500  53.179053 -0.012418 -0.556021          7.186455   \n",
      "11964       115.617188  46.784600  0.218177  0.226757          6.140468   \n",
      "5390        116.031250  43.213846  0.663456  0.433088          0.785117   \n",
      "860         135.664062  49.933749 -0.089940 -0.226726          3.859532   \n",
      "15795       120.726562  50.472256  0.346178  0.184797          0.769231   \n",
      "\n",
      "       SD_DMSNR_Curve  EK_DMSNR_Curve  Skewness_DMSNR_Curve  \n",
      "14453       18.009581        8.468258             84.137111  \n",
      "15797       11.590431       14.180137            242.867752  \n",
      "4510        13.774721       14.148388            215.404864  \n",
      "11899       13.353561       14.472023            233.870475  \n",
      "895         17.559245        8.733436             90.352868  \n",
      "...               ...             ...                   ...  \n",
      "11284       29.308266        4.531382             21.725143  \n",
      "11964       30.271961        5.732201             34.357282  \n",
      "5390        11.628149       17.055215            312.204325  \n",
      "860         21.501505        7.398395             62.334018  \n",
      "15795       11.792603       17.662222            329.548016  \n",
      "\n",
      "[14318 rows x 8 columns]\n",
      "Accuracy: 0.979050279329609\n",
      "Classification Report:\n",
      "              precision    recall  f1-score   support\n",
      "\n",
      "           0       0.98      0.99      0.99      3259\n",
      "           1       0.94      0.82      0.88       321\n",
      "\n",
      "    accuracy                           0.98      3580\n",
      "   macro avg       0.96      0.91      0.93      3580\n",
      "weighted avg       0.98      0.98      0.98      3580\n"
     ]
    }
   ],
   "source": [
    "import pandas as pd\n",
    "from sklearn.model_selection import train_test_split\n",
    "from sklearn.linear_model import LogisticRegression\n",
    "from sklearn.metrics import classification_report, accuracy_score\n",
    "\n",
    "# Load the dataset\n",
    "data = pd.read_csv('Pulsar.csv')\n",
    "\n",
    "# Separate features and target variable\n",
    "X = data.drop('Class', axis=1)\n",
    "y = data['Class']\n",
    "\n",
    "# Split the data into training and test sets (80% training, 20% test)\n",
    "X_train, X_test, y_train, y_test = train_test_split(X, y, test_size=0.2, random_state=42)\n",
    "\n",
    "\n",
    "# Initialize the logistic regression model\n",
    "logreg = LogisticRegression(max_iter=10000)\n",
    "\n",
    "# Fit the model on the training data\n",
    "logreg.fit(X_train, y_train)\n",
    "\n",
    "# Make predictions on the test data\n",
    "y_pred = logreg.predict(X_test)\n",
    "\n",
    "# Evaluate the model\n",
    "accuracy = accuracy_score(y_test, y_pred)\n",
    "report = classification_report(y_test, y_pred)\n",
    "\n",
    "print(f'Accuracy: {accuracy}')\n",
    "print('Classification Report:')\n",
    "print(report)\n"
   ]
  },
  {
   "cell_type": "code",
   "outputs": [],
   "source": [],
   "metadata": {
    "collapsed": false
   },
   "id": "da59a216124c5f24"
  },
  {
   "cell_type": "code",
   "outputs": [
    {
     "name": "stdout",
     "output_type": "stream",
     "text": [
      "Accuracy: 0.9812849162011174\n",
      "Classification Report:\n",
      "              precision    recall  f1-score   support\n",
      "\n",
      "           0       0.99      0.99      0.99      3259\n",
      "           1       0.94      0.85      0.89       321\n",
      "\n",
      "    accuracy                           0.98      3580\n",
      "   macro avg       0.96      0.92      0.94      3580\n",
      "weighted avg       0.98      0.98      0.98      3580\n"
     ]
    }
   ],
   "source": [
    "from pygam import LogisticGAM\n",
    "\n",
    "# Initialize the GAM model\n",
    "gam = LogisticGAM()\n",
    "\n",
    "# Fit the model on the training data\n",
    "gam.fit(X_train, y_train)\n",
    "\n",
    "# Make predictions on the test data\n",
    "y_pred = gam.predict(X_test)\n",
    "\n",
    "# Evaluate the model\n",
    "accuracy = accuracy_score(y_test, y_pred)\n",
    "report = classification_report(y_test, y_pred)\n",
    "\n",
    "print(f'Accuracy: {accuracy}')\n",
    "print('Classification Report:')\n",
    "print(report)\n"
   ],
   "metadata": {
    "collapsed": false,
    "ExecuteTime": {
     "end_time": "2024-07-07T00:15:51.208988Z",
     "start_time": "2024-07-07T00:15:50.340163Z"
    }
   },
   "id": "d427e9371d7a34a3",
   "execution_count": 3
  },
  {
   "cell_type": "code",
   "outputs": [
    {
     "ename": "ImportError",
     "evalue": "cannot import name 'Earth' from 'pyearth' (/Users/rogerbukuru/Documents/UCT Masters/MSc Statistics and Data Science/AR-STA5090Z/Assignments/Assignment I/Assignment-I/.venv/lib/python3.9/site-packages/pyearth/__init__.py)",
     "output_type": "error",
     "traceback": [
      "\u001B[0;31m---------------------------------------------------------------------------\u001B[0m",
      "\u001B[0;31mImportError\u001B[0m                               Traceback (most recent call last)",
      "Cell \u001B[0;32mIn[5], line 1\u001B[0m\n\u001B[0;32m----> 1\u001B[0m \u001B[38;5;28;01mfrom\u001B[39;00m \u001B[38;5;21;01mpyearth\u001B[39;00m \u001B[38;5;28;01mimport\u001B[39;00m Earth\n\u001B[1;32m      3\u001B[0m \u001B[38;5;66;03m# Initialize the MARS model\u001B[39;00m\n\u001B[1;32m      4\u001B[0m mars \u001B[38;5;241m=\u001B[39m Earth()\n",
      "\u001B[0;31mImportError\u001B[0m: cannot import name 'Earth' from 'pyearth' (/Users/rogerbukuru/Documents/UCT Masters/MSc Statistics and Data Science/AR-STA5090Z/Assignments/Assignment I/Assignment-I/.venv/lib/python3.9/site-packages/pyearth/__init__.py)"
     ]
    }
   ],
   "source": [
    "from pyearth import Earth\n",
    "\n",
    "# Initialize the MARS model\n",
    "mars = Earth()\n",
    "\n",
    "# Fit the model on the training data\n",
    "mars.fit(X_train, y_train)\n",
    "\n",
    "# Make predictions on the test data\n",
    "y_pred = mars.predict(X_test)\n",
    "\n",
    "# Since MARS gives continuous output, we need to binarize the predictions\n",
    "y_pred_class = (y_pred > 0.5).astype(int)\n",
    "\n",
    "# Evaluate the model\n",
    "accuracy = accuracy_score(y_test, y_pred_class)\n",
    "report = classification_report(y_test, y_pred_class)\n",
    "\n",
    "print(f'Accuracy: {accuracy}')\n",
    "print('Classification Report:')\n",
    "print(report)"
   ],
   "metadata": {
    "collapsed": false,
    "ExecuteTime": {
     "end_time": "2024-07-07T17:19:14.895183Z",
     "start_time": "2024-07-07T17:19:14.876153Z"
    }
   },
   "id": "50d3282e0c72bbe9",
   "execution_count": 5
  },
  {
   "cell_type": "code",
   "outputs": [],
   "source": [],
   "metadata": {
    "collapsed": false
   },
   "id": "70a15731c13e6983"
  }
 ],
 "metadata": {
  "kernelspec": {
   "display_name": "Python 3",
   "language": "python",
   "name": "python3"
  },
  "language_info": {
   "codemirror_mode": {
    "name": "ipython",
    "version": 2
   },
   "file_extension": ".py",
   "mimetype": "text/x-python",
   "name": "python",
   "nbconvert_exporter": "python",
   "pygments_lexer": "ipython2",
   "version": "2.7.6"
  }
 },
 "nbformat": 4,
 "nbformat_minor": 5
}
