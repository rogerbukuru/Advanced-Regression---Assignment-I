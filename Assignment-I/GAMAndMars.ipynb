{
 "cells": [
  {
   "cell_type": "code",
   "execution_count": 1,
   "id": "initial_id",
   "metadata": {
    "collapsed": true,
    "ExecuteTime": {
     "end_time": "2024-07-11T17:42:39.072590Z",
     "start_time": "2024-07-11T17:41:42.374589Z"
    }
   },
   "outputs": [
    {
     "name": "stdout",
     "output_type": "stream",
     "text": [
      "Accuracy: 0.979050279329609\n",
      "Classification Report:\n",
      "              precision    recall  f1-score   support\n",
      "\n",
      "           0       0.98      0.99      0.99      3259\n",
      "           1       0.94      0.82      0.88       321\n",
      "\n",
      "    accuracy                           0.98      3580\n",
      "   macro avg       0.96      0.91      0.93      3580\n",
      "weighted avg       0.98      0.98      0.98      3580\n"
     ]
    }
   ],
   "source": [
    "import pandas as pd\n",
    "from sklearn.model_selection import train_test_split\n",
    "from sklearn.linear_model import LogisticRegression\n",
    "from sklearn.metrics import classification_report, accuracy_score\n",
    "\n",
    "# Load the dataset\n",
    "data = pd.read_csv('Pulsar.csv')\n",
    "\n",
    "# Separate features and target variable\n",
    "X = data.drop('Class', axis=1)\n",
    "y = data['Class']\n",
    "\n",
    "# Split the data into training and test sets (80% training, 20% test)\n",
    "X_train, X_test, y_train, y_test = train_test_split(X, y, test_size=0.2, random_state=42)\n",
    "\n",
    "\n",
    "# Initialize the logistic regression model\n",
    "logreg = LogisticRegression(max_iter=10000)\n",
    "\n",
    "# Fit the model on the training data\n",
    "logreg.fit(X_train, y_train)\n",
    "\n",
    "# Make predictions on the test data\n",
    "y_pred = logreg.predict(X_test)\n",
    "\n",
    "# Evaluate the model\n",
    "accuracy = accuracy_score(y_test, y_pred)\n",
    "report = classification_report(y_test, y_pred)\n",
    "\n",
    "print(f'Accuracy: {accuracy}')\n",
    "print('Classification Report:')\n",
    "print(report)\n"
   ]
  },
  {
   "cell_type": "code",
   "outputs": [],
   "source": [],
   "metadata": {
    "collapsed": false
   },
   "id": "da59a216124c5f24"
  },
  {
   "cell_type": "code",
   "outputs": [
    {
     "name": "stdout",
     "output_type": "stream",
     "text": [
      "Accuracy: 0.9812849162011174\n",
      "Classification Report:\n",
      "              precision    recall  f1-score   support\n",
      "\n",
      "           0       0.99      0.99      0.99      3259\n",
      "           1       0.94      0.85      0.89       321\n",
      "\n",
      "    accuracy                           0.98      3580\n",
      "   macro avg       0.96      0.92      0.94      3580\n",
      "weighted avg       0.98      0.98      0.98      3580\n"
     ]
    }
   ],
   "source": [
    "from pygam import LogisticGAM\n",
    "\n",
    "# Initialize the GAM model\n",
    "gam = LogisticGAM()\n",
    "\n",
    "# Fit the model on the training data\n",
    "gam.fit(X_train, y_train)\n",
    "\n",
    "# Make predictions on the test data\n",
    "y_pred = gam.predict(X_test)\n",
    "\n",
    "# Evaluate the model\n",
    "accuracy = accuracy_score(y_test, y_pred)\n",
    "report = classification_report(y_test, y_pred)\n",
    "\n",
    "print(f'Accuracy: {accuracy}')\n",
    "print('Classification Report:')\n",
    "print(report)\n"
   ],
   "metadata": {
    "collapsed": false,
    "ExecuteTime": {
     "end_time": "2024-07-07T00:15:51.208988Z",
     "start_time": "2024-07-07T00:15:50.340163Z"
    }
   },
   "id": "d427e9371d7a34a3",
   "execution_count": 3
  },
  {
   "cell_type": "code",
   "outputs": [
    {
     "ename": "ImportError",
     "evalue": "cannot import name 'Earth' from 'pyearth' (/Users/rogerbukuru/Documents/UCT Masters/MSc Statistics and Data Science/AR-STA5090Z/Assignments/Assignment I/Assignment-I/.venv/lib/python3.9/site-packages/pyearth/__init__.py)",
     "output_type": "error",
     "traceback": [
      "\u001B[0;31m---------------------------------------------------------------------------\u001B[0m",
      "\u001B[0;31mImportError\u001B[0m                               Traceback (most recent call last)",
      "Cell \u001B[0;32mIn[2], line 1\u001B[0m\n\u001B[0;32m----> 1\u001B[0m \u001B[38;5;28;01mfrom\u001B[39;00m \u001B[38;5;21;01mpyearth\u001B[39;00m \u001B[38;5;28;01mimport\u001B[39;00m Earth\n\u001B[1;32m      3\u001B[0m \u001B[38;5;66;03m# Initialize the MARS model\u001B[39;00m\n\u001B[1;32m      4\u001B[0m mars \u001B[38;5;241m=\u001B[39m Earth()\n",
      "\u001B[0;31mImportError\u001B[0m: cannot import name 'Earth' from 'pyearth' (/Users/rogerbukuru/Documents/UCT Masters/MSc Statistics and Data Science/AR-STA5090Z/Assignments/Assignment I/Assignment-I/.venv/lib/python3.9/site-packages/pyearth/__init__.py)"
     ]
    }
   ],
   "source": [
    "from pyearth import Earth\n",
    "\n",
    "# Initialize the MARS model\n",
    "mars = Earth()\n",
    "\n",
    "# Fit the model on the training data\n",
    "mars.fit(X_train, y_train)\n",
    "\n",
    "# Make predictions on the test data\n",
    "y_pred = mars.predict(X_test)\n",
    "\n",
    "# Since MARS gives continuous output, we need to binarize the predictions\n",
    "y_pred_class = (y_pred > 0.5).astype(int)\n",
    "\n",
    "# Evaluate the model\n",
    "accuracy = accuracy_score(y_test, y_pred_class)\n",
    "report = classification_report(y_test, y_pred_class)\n",
    "\n",
    "print(f'Accuracy: {accuracy}')\n",
    "print('Classification Report:')\n",
    "print(report)"
   ],
   "metadata": {
    "collapsed": false,
    "ExecuteTime": {
     "end_time": "2024-07-11T21:46:24.700194Z",
     "start_time": "2024-07-11T21:46:24.513137Z"
    }
   },
   "id": "50d3282e0c72bbe9",
   "execution_count": 2
  },
  {
   "cell_type": "code",
   "outputs": [],
   "source": [],
   "metadata": {
    "collapsed": false
   },
   "id": "70a15731c13e6983"
  }
 ],
 "metadata": {
  "kernelspec": {
   "display_name": "Python 3",
   "language": "python",
   "name": "python3"
  },
  "language_info": {
   "codemirror_mode": {
    "name": "ipython",
    "version": 2
   },
   "file_extension": ".py",
   "mimetype": "text/x-python",
   "name": "python",
   "nbconvert_exporter": "python",
   "pygments_lexer": "ipython2",
   "version": "2.7.6"
  }
 },
 "nbformat": 4,
 "nbformat_minor": 5
}
